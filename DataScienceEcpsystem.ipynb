{
 "cells": [
  {
   "cell_type": "markdown",
   "id": "ddfa38f5-0891-4989-8113-e8afdfb2f194",
   "metadata": {},
   "source": [
    "# Data Sciecne Tools And Ecosystem"
   ]
  },
  {
   "cell_type": "markdown",
   "id": "2113f27e-b660-4011-9ee1-93327b5bcfa3",
   "metadata": {},
   "source": [
    "### In this NoteBook Data Science Tools and EcoSytem are Summerised"
   ]
  },
  {
   "cell_type": "markdown",
   "id": "6ca551a0-741e-4d93-9f27-566bf1750d38",
   "metadata": {},
   "source": [
    "#### Some of the popular languages that Data Scientists use are:"
   ]
  },
  {
   "cell_type": "markdown",
   "id": "1b7380e6-cd50-451e-ac38-b219b29f5d8d",
   "metadata": {},
   "source": [
    "1. Python\n",
    "2. R\n",
    "3. Sql"
   ]
  },
  {
   "cell_type": "markdown",
   "id": "a09aee79-e90f-4807-a004-2b4ba97783e6",
   "metadata": {},
   "source": [
    "##### Some of the commonly used libraries used by Data Scientists include:"
   ]
  },
  {
   "cell_type": "markdown",
   "id": "b0a6ef10-1826-4b81-a870-80a895392df0",
   "metadata": {},
   "source": [
    "1. ##### Numby\n",
    "    Used for Numerical Computing.\n",
    "2. ##### Matplotlib\n",
    "    Used for Statiscal Visualization.\n",
    "3. ##### scikit-learn\n",
    "    Used for Machine Learning.\n",
    "4. ##### Tensar Flow\n",
    "    Ai Platform\n",
    "5. ##### Keras\n",
    "    Neural Network\n",
    "6. ##### spaCy\n",
    "   Text processing\n",
    "7. ##### Apche Airflow\n",
    "   Work Flow management\n",
    "8. ##### SeaBorm\n",
    "   Statiscal Graphics\n",
    "9. ##### Plotly\n",
    "   intractive Chart\n",
    "10. ##### Caret\n",
    "    R Studio Machine Learning Library."
   ]
  },
  {
   "cell_type": "markdown",
   "id": "2d5f5f8c-5f79-4406-ac9d-a848476100c3",
   "metadata": {},
   "source": [
    "| Data Science Tools |\n",
    "|  ----------------  |\n",
    "| Jupter NoteBook |\n",
    "| VS Studio |\n",
    "| R Studio |\n",
    "| Python |"
   ]
  },
  {
   "cell_type": "markdown",
   "id": "1fa0ba54-2d32-4c3a-a4d4-0059b9b70554",
   "metadata": {},
   "source": [
    "### Below are a few examples of evaluating arithmetic expressions in Python"
   ]
  },
  {
   "cell_type": "code",
   "execution_count": 7,
   "id": "ff55e980-258c-4754-9ddf-ae7770fed6c0",
   "metadata": {},
   "outputs": [
    {
     "data": {
      "text/plain": [
       "17"
      ]
     },
     "execution_count": 7,
     "metadata": {},
     "output_type": "execute_result"
    }
   ],
   "source": [
    "(3*4)+5"
   ]
  },
  {
   "cell_type": "code",
   "execution_count": 10,
   "id": "4ea51123-a1dd-42f2-9c83-18ab5489ff12",
   "metadata": {},
   "outputs": [
    {
     "data": {
      "text/plain": [
       "3.3333333333333335"
      ]
     },
     "execution_count": 10,
     "metadata": {},
     "output_type": "execute_result"
    }
   ],
   "source": [
    "# this operation Convert minutes into hours\n",
    "200/60\n",
    "# Belwo minutes are converted into hours\n"
   ]
  },
  {
   "cell_type": "markdown",
   "id": "4325ce9f-801a-4e07-983c-d735ab62acd8",
   "metadata": {},
   "source": [
    "### Objectives:\n",
    "#### in this note book we have coverd:\n",
    "1. Popular data science languages\n",
    "2. Commonly Used Data Scienc library\n",
    "3. Data Sciences Development Environments\n",
    "4. Arithmetic expressions in python"
   ]
  },
  {
   "cell_type": "markdown",
   "id": "32791e0e-b57f-4586-abca-c292fce9d3fc",
   "metadata": {},
   "source": [
    "## Author\n",
    "Muhammad Zahoor"
   ]
  },
  {
   "cell_type": "code",
   "execution_count": null,
   "id": "2966c529-684b-4667-b6fb-0128dabf3c93",
   "metadata": {},
   "outputs": [],
   "source": []
  }
 ],
 "metadata": {
  "kernelspec": {
   "display_name": "Python [conda env:base] *",
   "language": "python",
   "name": "conda-base-py"
  },
  "language_info": {
   "codemirror_mode": {
    "name": "ipython",
    "version": 3
   },
   "file_extension": ".py",
   "mimetype": "text/x-python",
   "name": "python",
   "nbconvert_exporter": "python",
   "pygments_lexer": "ipython3",
   "version": "3.13.5"
  }
 },
 "nbformat": 4,
 "nbformat_minor": 5
}
